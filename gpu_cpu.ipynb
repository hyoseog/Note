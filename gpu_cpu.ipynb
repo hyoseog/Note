{
  "nbformat": 4,
  "nbformat_minor": 0,
  "metadata": {
    "colab": {
      "name": "gpu_cpu.ipynb",
      "version": "0.3.2",
      "provenance": [],
      "collapsed_sections": [],
      "include_colab_link": true
    },
    "language_info": {
      "codemirror_mode": {
        "name": "ipython",
        "version": 3
      },
      "file_extension": ".py",
      "mimetype": "text/x-python",
      "name": "python",
      "nbconvert_exporter": "python",
      "pygments_lexer": "ipython3",
      "version": "3.7.3"
    },
    "kernelspec": {
      "name": "python3",
      "display_name": "Python 3"
    },
    "accelerator": "GPU"
  },
  "cells": [
    {
      "cell_type": "markdown",
      "metadata": {
        "id": "view-in-github",
        "colab_type": "text"
      },
      "source": [
        "<a href=\"https://colab.research.google.com/github/hyoseog/Note/blob/master/gpu_cpu.ipynb\" target=\"_parent\"><img src=\"https://colab.research.google.com/assets/colab-badge.svg\" alt=\"Open In Colab\"/></a>"
      ]
    },
    {
      "cell_type": "code",
      "metadata": {
        "id": "wGpS63d35Mpc",
        "colab_type": "code",
        "colab": {
          "base_uri": "https://localhost:8080/",
          "height": 107
        },
        "outputId": "f4ce7a3b-71d4-4588-ed9b-a56cc98b7c2f"
      },
      "source": [
        "'''\n",
        "\n",
        "Binary Classification의 Tensorflow 예제로 csv당뇨병 파일을 학습하는 예제가 있었습니다.\n",
        "\n",
        "여기에 hiddel layer를 쌓아서 성능을 90%이상 되게 코드를 작성하시오.\n",
        "\n",
        "'''\n",
        "\n",
        "import tensorflow as tf\n",
        "import numpy as np\n",
        "import timeit\n",
        "\n",
        "config = tf.ConfigProto()\n",
        "config.gpu_options.allow_growth = True\n",
        "\n",
        "with tf.device('/cpu:0'):\n",
        "  random_image_cpu = tf.random_normal((100,100,100,3))\n",
        "  net_cpu = tf.layers.conv2d(random_image_cpu,32,7)\n",
        "  net_cpu = tf.reduce_sum(net_cpu)\n",
        "  \n",
        "with tf.device('/gpu:0'):\n",
        "  random_image_gpu = tf.random_normal((100,100,100,3))\n",
        "  net_gpu = tf.layers.conv2d(random_image_gpu,32,7)\n",
        "  net_gpu = tf.reduce_sum(net_gpu)\n",
        "  \n",
        "sess = tf.Session(config=config)\n",
        "\n",
        "try:\n",
        "  sess.run(tf.global_variables_initializer())\n",
        "except tf.errors.InvalidArgumentError:\n",
        "  print('error')\n",
        "  raise\n",
        "  \n",
        "def cpu():\n",
        "  sess.run(net_cpu)\n",
        "\n",
        "def gpu():\n",
        "  sess.run(net_gpu)\n",
        "\n",
        "  \n",
        "print('CPU (s):')\n",
        "cpu_time = timeit.timeit('cpu()',number=10, setup=\"from __main__ import cpu\")\n",
        "print(cpu_time)\n",
        "\n",
        "print('GPU (s):')\n",
        "gpu_time = timeit.timeit('gpu()',number=10, setup=\"from __main__ import gpu\")\n",
        "print(gpu_time)\n",
        "print('GPU speedup over CPU: {}x'.format(int(cpu_time/gpu_time)))\n",
        "\n",
        "sess.close()"
      ],
      "execution_count": 5,
      "outputs": [
        {
          "output_type": "stream",
          "text": [
            "CPU (s):\n",
            "3.00770409200004\n",
            "GPU (s):\n",
            "0.10662178299980951\n",
            "GPU speedup over CPU: 28x\n"
          ],
          "name": "stdout"
        }
      ]
    }
  ]
}