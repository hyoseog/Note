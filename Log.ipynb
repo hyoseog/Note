{
 "cells": [
  {
   "cell_type": "markdown",
   "metadata": {},
   "source": [
    "# Log"
   ]
  },
  {
   "cell_type": "markdown",
   "metadata": {},
   "source": [
    "* * * *"
   ]
  },
  {
   "cell_type": "markdown",
   "metadata": {},
   "source": [
    "$a^x = b$"
   ]
  },
  {
   "cell_type": "markdown",
   "metadata": {},
   "source": [
    "1) b를 모르는 경우 a를 x번 거듭제곱\n",
    "\n",
    "2) a를 모르는 경우 거듭제곱근 사용 ($a = \\sqrt[x]{b})$\n",
    "\n",
    "3) x를 모르는 경우 Log 사용  ( x = $\\log_{a} b$ )"
   ]
  },
  {
   "cell_type": "markdown",
   "metadata": {},
   "source": [
    "![ssss](https://encrypted-tbn0.gstatic.com/images?q=tbn:ANd9GcRZ0WcD0UiopSHLMFtDceb679rAXeVyy6MmavN4JSAXMT_hVhZ2YA)"
   ]
  },
  {
   "cell_type": "markdown",
   "metadata": {},
   "source": [
    "## 1. 상용로그"
   ]
  },
  {
   "cell_type": "markdown",
   "metadata": {},
   "source": [
    "* 밑이 10인 로그\n",
    "* 밑은 생략함"
   ]
  },
  {
   "attachments": {
    "image.png": {
     "image/png": "[encoded data removed]"
    }
   },
   "cell_type": "markdown",
   "metadata": {},
   "source": [
    "![image.png](attachment:image.png)"
   ]
  },
  {
   "cell_type": "markdown",
   "metadata": {},
   "source": [
    "* 로그성질\n",
    "\n",
    "    - $\\log 10 = 1$ \n",
    "    \n",
    "    - $\\log 1 = 0$\n",
    "    \n",
    "    - $\\log_{a} b$\n",
    "    \n",
    "    - $\\log x = {\\frac{\\log_{a} x} {\\log_{a} 10}} = {\\frac{\\ln x} {\\ln 10}}$\n",
    "    \n",
    "    - $\\log x = {\\frac{1}{\\log_{x} 10}}$\n",
    "    \n",
    "    - $\\log (x \\cdot z) = \\log x + \\log z$\n",
    "    \n",
    "    - $\\log {\\frac{x}{z}} = \\log x - \\log z$\n",
    "    \n",
    "    - $\\log x^r = r \\cdot \\log x$\n",
    "    \n",
    "    - $\\log 10^r = r $\n",
    "    \n"
   ]
  },
  {
   "cell_type": "markdown",
   "metadata": {},
   "source": [
    "## 2. 자연로그"
   ]
  },
  {
   "cell_type": "markdown",
   "metadata": {},
   "source": [
    "* e (오일러수)를 밑으로 하는 로그\n",
    "\n",
    "    $e^x = y 일때, \\ln y = x$\n",
    "    \n",
    "    \n",
    "* 미분\n",
    "    $y(x) = \\ln x 이면,$  y의 x에 대한 미분  ${\\frac{dx}{dy}} = {\\frac{1}{x}}$"
   ]
  },
  {
   "cell_type": "markdown",
   "metadata": {},
   "source": [
    "* 로그성질\n",
    "\n",
    "   + $\\ln e = 1$\n",
    "    \n",
    "   + $ln(x \\cdot y) = \\ln x + \\ln y$,    (for  $ x >0, y>0$)\n",
    "    \n",
    "   + $\\ln x < \\ln y$, (for $0<x<y$)\n",
    "   \n",
    "   + $\\lim_{x \\to 0}{\\frac{\\ln(1+x)}{x}} = 1$\n",
    "   \n",
    "   + $\\lim_{n \\to 0} {\\frac{x^n -1}{n}}$\n",
    "   \n",
    "   + $ln x^y =y \\cdot lnx$, (for $x>0$ )\n",
    "   \n",
    "   + $\\frac{{x-1}} x \\leq \\ln x  \\le x-1$\n",
    "   \n",
    "   + $\\ln(1+x^a) \\le ax$"
   ]
  },
  {
   "cell_type": "markdown",
   "metadata": {},
   "source": [
    "![tet](https://upload.wikimedia.org/wikipedia/commons/thumb/4/4a/Log_%282%29.svg/300px-Log_%282%29.svg.png)"
   ]
  },
  {
   "cell_type": "markdown",
   "metadata": {},
   "source": []
  }
 ],
 "metadata": {
  "kernelspec": {
   "display_name": "Python 3",
   "language": "python",
   "name": "python3"
  },
  "language_info": {
   "codemirror_mode": {
    "name": "ipython",
    "version": 3
   },
   "file_extension": ".py",
   "mimetype": "text/x-python",
   "name": "python",
   "nbconvert_exporter": "python",
   "pygments_lexer": "ipython3",
   "version": "3.7.3"
  }
 },
 "nbformat": 4,
 "nbformat_minor": 2
}
